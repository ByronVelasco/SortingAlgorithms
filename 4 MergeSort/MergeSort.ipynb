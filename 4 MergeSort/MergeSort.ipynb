{
  "cells": [
    {
      "cell_type": "markdown",
      "metadata": {},
      "source": [
        "## **Additional Libraries**"
      ]
    },
    {
      "cell_type": "code",
      "execution_count": 1,
      "metadata": {},
      "outputs": [],
      "source": [
        "from math import inf"
      ]
    },
    {
      "cell_type": "markdown",
      "metadata": {},
      "source": [
        "## **Merge Sort Algorithm**"
      ]
    },
    {
      "cell_type": "code",
      "execution_count": 2,
      "metadata": {
        "id": "wQ0yMNCTWfYl"
      },
      "outputs": [],
      "source": [
        "def MergeSort(A):\n",
        "  if len(A) > 1:\n",
        "    half = len(A) // 2\n",
        "    left = A[:half]\n",
        "    right = A[half:]\n",
        "    MergeSort(left)\n",
        "    MergeSort(right)\n",
        "    left.append(inf)\n",
        "    right.append(inf)\n",
        "    i = j = 0\n",
        "    for k in range(len(A)):\n",
        "      if left[i] <= right[j]:\n",
        "        A[k] = left[i]\n",
        "        i += 1\n",
        "      else:\n",
        "        A[k] = right[j]\n",
        "        j += 1"
      ]
    }
  ],
  "metadata": {
    "colab": {
      "provenance": []
    },
    "kernelspec": {
      "display_name": "Python 3",
      "name": "python3"
    },
    "language_info": {
      "codemirror_mode": {
        "name": "ipython",
        "version": 3
      },
      "file_extension": ".py",
      "mimetype": "text/x-python",
      "name": "python",
      "nbconvert_exporter": "python",
      "pygments_lexer": "ipython3",
      "version": "3.12.3"
    }
  },
  "nbformat": 4,
  "nbformat_minor": 0
}
