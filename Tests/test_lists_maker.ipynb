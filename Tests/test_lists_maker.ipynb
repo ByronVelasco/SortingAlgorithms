{
 "cells": [
  {
   "cell_type": "markdown",
   "id": "7f52bb3e",
   "metadata": {},
   "source": [
    "# **Importing Block**\n",
    "Let's import functions in `lists_maker.py`"
   ]
  },
  {
   "cell_type": "code",
   "execution_count": 1,
   "id": "38803c7b",
   "metadata": {},
   "outputs": [],
   "source": [
    "import sys\n",
    "import os\n",
    "\n",
    "# Add the Lists Maker directory to the path\n",
    "sys.path.append(os.path.abspath(\"../0 ListsMaker\"))\n",
    "\n",
    "from lists_maker import random_list, sorted_list, reversed_list"
   ]
  },
  {
   "cell_type": "markdown",
   "id": "ab0fd54e",
   "metadata": {},
   "source": [
    "# **Testing Block**\n",
    "Let's test `random_list`, `sorted_list` and `reversed_list` with `n=10`."
   ]
  },
  {
   "cell_type": "code",
   "execution_count": 2,
   "id": "b4a657b9",
   "metadata": {},
   "outputs": [
    {
     "name": "stdout",
     "output_type": "stream",
     "text": [
      "Random List:\n",
      "[5, 7, 5, 2, 8, 1, 4, 5, 4, 3]\n",
      "\n",
      "Sorted List:\n",
      "[1, 2, 3, 4, 5, 6, 7, 8, 9, 10]\n",
      "\n",
      "Reversed List:\n",
      "[10, 9, 8, 7, 6, 5, 4, 3, 2, 1]\n",
      "\n"
     ]
    }
   ],
   "source": [
    "n = 10\n",
    "print(f\"Random List:\\n{random_list(n)}\\n\")\n",
    "print(f\"Sorted List:\\n{sorted_list(n)}\\n\")\n",
    "print(f\"Reversed List:\\n{reversed_list(n)}\\n\")"
   ]
  }
 ],
 "metadata": {
  "kernelspec": {
   "display_name": "Python 3",
   "language": "python",
   "name": "python3"
  },
  "language_info": {
   "codemirror_mode": {
    "name": "ipython",
    "version": 3
   },
   "file_extension": ".py",
   "mimetype": "text/x-python",
   "name": "python",
   "nbconvert_exporter": "python",
   "pygments_lexer": "ipython3",
   "version": "3.12.3"
  }
 },
 "nbformat": 4,
 "nbformat_minor": 5
}
