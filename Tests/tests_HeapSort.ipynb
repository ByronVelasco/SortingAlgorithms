{
 "cells": [
  {
   "cell_type": "markdown",
   "id": "0acdaf0d",
   "metadata": {},
   "source": [
    "# Importing block\n",
    "Let's import algorithm `HeapSort` and functions in `lists_maker.py`."
   ]
  },
  {
   "cell_type": "code",
   "execution_count": 1,
   "id": "67bf9e58",
   "metadata": {},
   "outputs": [],
   "source": [
    "import sys\n",
    "import os\n",
    "\n",
    "# Add relative paths to module folders\n",
    "sys.path.append(os.path.abspath(\"../0 ListsMaker\"))\n",
    "sys.path.append(os.path.abspath(\"../5 HeapSort\"))\n",
    "\n",
    "from lists_maker import random_list, sorted_list, reversed_list\n",
    "from HeapSort import HeapSort"
   ]
  },
  {
   "cell_type": "markdown",
   "id": "be0a7513",
   "metadata": {},
   "source": [
    "# Testing Block\n",
    "Let's test `HeapSort` with lists of length `n=10`."
   ]
  },
  {
   "cell_type": "code",
   "execution_count": 2,
   "id": "a68ae02f",
   "metadata": {},
   "outputs": [
    {
     "name": "stdout",
     "output_type": "stream",
     "text": [
      "List: [9, 5, 10, 7, 5, 9, 9, 2, 2, 7]\n",
      "Sorted List: [2, 2, 5, 5, 7, 7, 9, 9, 9, 10]\n",
      "\n",
      "List: [1, 2, 3, 4, 5, 6, 7, 8, 9, 10]\n",
      "Sorted List: [1, 2, 3, 4, 5, 6, 7, 8, 9, 10]\n",
      "\n",
      "List: [10, 9, 8, 7, 6, 5, 4, 3, 2, 1]\n",
      "Sorted List: [1, 2, 3, 4, 5, 6, 7, 8, 9, 10]\n",
      "\n"
     ]
    }
   ],
   "source": [
    "n = 10\n",
    "\n",
    "randomList = random_list(n)\n",
    "print(f\"List: {randomList}\")\n",
    "HeapSort(randomList)\n",
    "print(f\"Sorted List: {randomList}\\n\")\n",
    "\n",
    "sortedList = sorted_list(n)\n",
    "print(f\"List: {sortedList}\")\n",
    "HeapSort(sortedList)\n",
    "print(f\"Sorted List: {sortedList}\\n\")\n",
    "\n",
    "reversedList = reversed_list(n)\n",
    "print(f\"List: {reversedList}\")\n",
    "HeapSort(reversedList)\n",
    "print(f\"Sorted List: {reversedList}\\n\")"
   ]
  },
  {
   "cell_type": "markdown",
   "id": "19cbb086",
   "metadata": {},
   "source": [
    "# Algorithm Correctness Verification\n",
    "We show that the algorithm works correctly (sorting) compared to a well-known method within lists: `list.sort()`. We order `m=1000000` different random lists (of size `n=10`)."
   ]
  },
  {
   "cell_type": "code",
   "execution_count": 3,
   "id": "e3a8421d",
   "metadata": {},
   "outputs": [
    {
     "name": "stdout",
     "output_type": "stream",
     "text": [
      "True\n"
     ]
    }
   ],
   "source": [
    "m = 1000000\n",
    "n = 10\n",
    "test = 0\n",
    "for _ in range(m):\n",
    "  A = random_list(n)\n",
    "  B = list(A)\n",
    "  test += HeapSort(B) == A.sort()\n",
    "print(test == m) #If the test is True, the HeapSort function works correctly."
   ]
  }
 ],
 "metadata": {
  "kernelspec": {
   "display_name": "Python 3",
   "language": "python",
   "name": "python3"
  },
  "language_info": {
   "codemirror_mode": {
    "name": "ipython",
    "version": 3
   },
   "file_extension": ".py",
   "mimetype": "text/x-python",
   "name": "python",
   "nbconvert_exporter": "python",
   "pygments_lexer": "ipython3",
   "version": "3.12.3"
  }
 },
 "nbformat": 4,
 "nbformat_minor": 5
}
