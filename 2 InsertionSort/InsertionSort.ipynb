{
  "cells": [
    {
      "cell_type": "markdown",
      "metadata": {},
      "source": [
        "## **Insertion Sort Algorithm**"
      ]
    },
    {
      "cell_type": "code",
      "execution_count": null,
      "metadata": {
        "id": "wQ0yMNCTWfYl"
      },
      "outputs": [],
      "source": [
        "def InsertionSort(A):\n",
        "  n = len(A)\n",
        "  for i in range(1, n):\n",
        "    key = A[i]\n",
        "    j = i-1\n",
        "    while j >= 0 and key < A[j]:\n",
        "      A[j+1] = A[j]\n",
        "      j -= 1\n",
        "    A[j+1] = key"
      ]
    }
  ],
  "metadata": {
    "colab": {
      "provenance": []
    },
    "kernelspec": {
      "display_name": "Python 3",
      "name": "python3"
    },
    "language_info": {
      "name": "python"
    }
  },
  "nbformat": 4,
  "nbformat_minor": 0
}
