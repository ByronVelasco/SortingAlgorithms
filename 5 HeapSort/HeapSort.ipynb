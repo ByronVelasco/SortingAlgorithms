{
  "cells": [
    {
      "cell_type": "markdown",
      "metadata": {},
      "source": [
        "## **Max-Heapify Algorithm**"
      ]
    },
    {
      "cell_type": "code",
      "execution_count": 1,
      "metadata": {
        "id": "wQ0yMNCTWfYl"
      },
      "outputs": [],
      "source": [
        "def MaxHeapify(A, n, i):\n",
        "    largest = i\n",
        "    left = 2 * i + 1\n",
        "    right = left + 1\n",
        "    if left < n and A[left] > A[largest]:\n",
        "        largest = left\n",
        "    if right < n and A[right] > A[largest]:\n",
        "        largest = right\n",
        "    if largest != i:\n",
        "        A[i], A[largest] = A[largest], A[i]\n",
        "        MaxHeapify(A, n, largest)"
      ]
    },
    {
      "cell_type": "markdown",
      "metadata": {},
      "source": [
        "## **Heap Sort Algorithm**"
      ]
    },
    {
      "cell_type": "code",
      "execution_count": 2,
      "metadata": {},
      "outputs": [],
      "source": [
        "def HeapSort(A):\n",
        "    n = len(A)\n",
        "    for i in range(n // 2 - 1, -1, -1):\n",
        "        MaxHeapify(A, n, i)\n",
        "    for i in range(n - 1, 0, -1):\n",
        "        A[i], A[0] = A[0], A[i]\n",
        "        MaxHeapify(A, i, 0)"
      ]
    }
  ],
  "metadata": {
    "colab": {
      "provenance": []
    },
    "kernelspec": {
      "display_name": "Python 3",
      "name": "python3"
    },
    "language_info": {
      "codemirror_mode": {
        "name": "ipython",
        "version": 3
      },
      "file_extension": ".py",
      "mimetype": "text/x-python",
      "name": "python",
      "nbconvert_exporter": "python",
      "pygments_lexer": "ipython3",
      "version": "3.12.3"
    }
  },
  "nbformat": 4,
  "nbformat_minor": 0
}
