{
  "cells": [
    {
      "cell_type": "markdown",
      "metadata": {
        "id": "yS8TzGAvMMbl"
      },
      "source": [
        "# **Imported Libraries**"
      ]
    },
    {
      "cell_type": "code",
      "execution_count": 1,
      "metadata": {
        "id": "woldhgbaMMMP"
      },
      "outputs": [],
      "source": [
        "import random"
      ]
    },
    {
      "cell_type": "markdown",
      "metadata": {
        "id": "8ajh-4QiMTRr"
      },
      "source": [
        "# **Random List**"
      ]
    },
    {
      "cell_type": "code",
      "execution_count": null,
      "metadata": {
        "id": "AEqQWXj6MTBN"
      },
      "outputs": [],
      "source": [
        "def random_list(n):\n",
        "  return [random.randint(1, n) for _ in range(n)]"
      ]
    },
    {
      "cell_type": "markdown",
      "metadata": {
        "id": "QmwSE4opM8h5"
      },
      "source": [
        "# **Sorted List**"
      ]
    },
    {
      "cell_type": "code",
      "execution_count": null,
      "metadata": {
        "id": "0wHzMoNdMmJE"
      },
      "outputs": [],
      "source": [
        "def sorted_list(n):\n",
        "  return list(range(1, n+1))"
      ]
    },
    {
      "cell_type": "markdown",
      "metadata": {
        "id": "OWNt1akjNSnc"
      },
      "source": [
        "# **Reversed List**"
      ]
    },
    {
      "cell_type": "code",
      "execution_count": null,
      "metadata": {
        "id": "v7ihpAHUNXON"
      },
      "outputs": [],
      "source": [
        "def reversed_list(n):\n",
        "  return list(range(n, 0, -1))"
      ]
    }
  ],
  "metadata": {
    "colab": {
      "provenance": []
    },
    "kernelspec": {
      "display_name": "Python 3",
      "name": "python3"
    },
    "language_info": {
      "codemirror_mode": {
        "name": "ipython",
        "version": 3
      },
      "file_extension": ".py",
      "mimetype": "text/x-python",
      "name": "python",
      "nbconvert_exporter": "python",
      "pygments_lexer": "ipython3",
      "version": "3.12.3"
    }
  },
  "nbformat": 4,
  "nbformat_minor": 0
}
