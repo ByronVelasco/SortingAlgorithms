{
  "cells": [
    {
      "cell_type": "markdown",
      "metadata": {},
      "source": [
        "## **Selection Sort Algorithm**"
      ]
    },
    {
      "cell_type": "code",
      "execution_count": 19,
      "metadata": {
        "id": "wQ0yMNCTWfYl"
      },
      "outputs": [],
      "source": [
        "def SelectionSort(A):\n",
        "  n = len(A)\n",
        "  for i in range(n-1):\n",
        "    min = i\n",
        "    for j in range(i+1, n):\n",
        "      if A[j] < A[min]:\n",
        "        min = j\n",
        "    A[i], A[min] = A[min], A[i]"
      ]
    }
  ],
  "metadata": {
    "colab": {
      "provenance": []
    },
    "kernelspec": {
      "display_name": "Python 3",
      "name": "python3"
    },
    "language_info": {
      "name": "python"
    }
  },
  "nbformat": 4,
  "nbformat_minor": 0
}
