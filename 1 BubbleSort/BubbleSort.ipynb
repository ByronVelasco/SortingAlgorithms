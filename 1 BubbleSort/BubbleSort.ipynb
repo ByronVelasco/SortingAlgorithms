{
 "cells": [
  {
   "cell_type": "markdown",
   "id": "5522b887",
   "metadata": {},
   "source": [
    "## **Bubble Sort Algorithm**"
   ]
  },
  {
   "cell_type": "code",
   "execution_count": null,
   "id": "3ef9d0b4",
   "metadata": {},
   "outputs": [],
   "source": [
    "def BubbleSort(A):\n",
    "  n = len(A)\n",
    "  for i in range(0, n-1):\n",
    "    for j in range(n-1, i, -1):\n",
    "      if A[j] < A[j-1]:\n",
    "        A[j], A[j-1] = A[j-1], A[j]"
   ]
  }
 ],
 "metadata": {
  "kernelspec": {
   "display_name": "Python 3",
   "language": "python",
   "name": "python3"
  },
  "language_info": {
   "codemirror_mode": {
    "name": "ipython",
    "version": 3
   },
   "file_extension": ".py",
   "mimetype": "text/x-python",
   "name": "python",
   "nbconvert_exporter": "python",
   "pygments_lexer": "ipython3",
   "version": "3.12.3"
  }
 },
 "nbformat": 4,
 "nbformat_minor": 5
}
